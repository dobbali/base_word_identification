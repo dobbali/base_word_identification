{
 "cells": [
  {
   "cell_type": "markdown",
   "metadata": {},
   "source": [
    "# Getting Data"
   ]
  },
  {
   "cell_type": "markdown",
   "metadata": {},
   "source": [
    "### Import libraries"
   ]
  },
  {
   "cell_type": "code",
   "execution_count": 190,
   "metadata": {
    "collapsed": true
   },
   "outputs": [],
   "source": [
    "from url_checker import UrlCheck\n",
    "from bs4 import BeautifulSoup\n",
    "import re\n",
    "\n",
    "import inflect\n",
    "p = inflect.engine()\n",
    "\n",
    "import spacy\n",
    "\n",
    "import pandas as pd\n",
    "\n",
    "from nltk import ngrams"
   ]
  },
  {
   "cell_type": "markdown",
   "metadata": {},
   "source": [
    "### Sample Keywords Data"
   ]
  },
  {
   "cell_type": "code",
   "execution_count": 191,
   "metadata": {
    "collapsed": true,
    "scrolled": true
   },
   "outputs": [],
   "source": [
    "keywords = pd.read_excel(\"combined.xlsx\",sheetname=\"Jewelry\")\n",
    "keywords[\"keyword_len\"] = keywords[\"Keyword\"].apply(len)\n",
    "\n",
    "keywords = keywords.sort_values(by =\"keyword_len\", ascending = False)\n",
    "keywords = keywords.reset_index(drop = True)"
   ]
  },
  {
   "cell_type": "code",
   "execution_count": 192,
   "metadata": {
    "collapsed": true
   },
   "outputs": [],
   "source": [
    "def build_url_from_keyword(keyword):\n",
    "    base_url = \"https://www.overstock.com/search?keywords=\"\n",
    "    keyword_for_url = keyword.replace(\" \",\"+\")\n",
    "    final_url = base_url + keyword_for_url\n",
    "    return final_url"
   ]
  },
  {
   "cell_type": "code",
   "execution_count": 193,
   "metadata": {
    "collapsed": true
   },
   "outputs": [],
   "source": [
    "def get_soup(url):\n",
    "    check = UrlCheck()\n",
    "    req = check.get_request(url)\n",
    "    return BeautifulSoup(req.text, 'lxml')"
   ]
  },
  {
   "cell_type": "code",
   "execution_count": 194,
   "metadata": {
    "collapsed": true
   },
   "outputs": [],
   "source": [
    "def get_prod_titles(soup):\n",
    "    prod_titles = soup.findAll(\"div\", { \"class\" : \"product-title\"}) \n",
    "    text_title = []\n",
    "    for title in prod_titles:\n",
    "        text_title.append(title.get_text())\n",
    "    return text_title"
   ]
  },
  {
   "cell_type": "code",
   "execution_count": 195,
   "metadata": {
    "collapsed": true
   },
   "outputs": [],
   "source": [
    "def get_refinement_group(soup):\n",
    "    refinements_titles = soup.findAll(\"div\",{\"class\":\"refinement-group\"})\n",
    "    text_title = []\n",
    "    for title in refinements_titles:\n",
    "        text_title.append(title)\n",
    "    return text_title"
   ]
  },
  {
   "cell_type": "code",
   "execution_count": 196,
   "metadata": {
    "collapsed": true
   },
   "outputs": [],
   "source": [
    "def get_refinement(refinement_group):\n",
    "    refinements = refinement_group.findAll(\"li\",{\"class\":\"refinement-item\"})\n",
    "    heading = refinement_group.find(\"h3\", {\"class\":\"refinement-heading\"}).get_text()\n",
    "    refs = []\n",
    "    for title in refinements:\n",
    "        refs.append(title.get_text())\n",
    "    \n",
    "    refs = [re.sub(\"\\(\\d*\\)\",\"\", item.strip()) for item in refs]\n",
    "    refs = [re.sub(\"\\(\\d,\\d*\\)\",\"\", item.strip()) for item in refs]\n",
    "    final_ref_group = {}\n",
    "    final_ref_group[heading] = refs\n",
    "    return final_ref_group"
   ]
  },
  {
   "cell_type": "code",
   "execution_count": 197,
   "metadata": {
    "collapsed": true
   },
   "outputs": [],
   "source": [
    "# get rid of this ['Jewelry & Watch Store ', 'Worldstock Fair Trade ', 'Holiday ', 'Pet Supply Store ', 'Main Street Revolution ']"
   ]
  },
  {
   "cell_type": "code",
   "execution_count": 198,
   "metadata": {
    "scrolled": true
   },
   "outputs": [
    {
     "name": "stdout",
     "output_type": "stream",
     "text": [
      "safavieh casual natural fiber natural and beige border seagrass rug\n"
     ]
    }
   ],
   "source": [
    "keyword =\"safavieh casual natural fiber natural and beige border seagrass rug\" #keywords[\"Keyword\"][67]\n",
    "\n",
    "print(keyword)"
   ]
  },
  {
   "cell_type": "code",
   "execution_count": 199,
   "metadata": {
    "collapsed": true,
    "scrolled": true
   },
   "outputs": [],
   "source": [
    "url = build_url_from_keyword(keyword)  #sterling silver wedding ring sets for him and her\n",
    "soup = get_soup(url)\n",
    "prod_titles = get_prod_titles(soup)"
   ]
  },
  {
   "cell_type": "code",
   "execution_count": 200,
   "metadata": {
    "collapsed": true
   },
   "outputs": [],
   "source": [
    "group = get_refinement_group(soup)"
   ]
  },
  {
   "cell_type": "code",
   "execution_count": 201,
   "metadata": {
    "collapsed": true
   },
   "outputs": [],
   "source": [
    "refinement_dict_list = []\n",
    "for g in group:\n",
    "    refinement_dict_list.append(get_refinement(g))"
   ]
  },
  {
   "cell_type": "code",
   "execution_count": 202,
   "metadata": {},
   "outputs": [
    {
     "data": {
      "text/plain": [
       "'safavieh casual natural fiber natural and beige border seagrass rug'"
      ]
     },
     "execution_count": 202,
     "metadata": {},
     "output_type": "execute_result"
    }
   ],
   "source": [
    "keyword"
   ]
  },
  {
   "cell_type": "markdown",
   "metadata": {},
   "source": [
    "### Modify input and output"
   ]
  },
  {
   "cell_type": "code",
   "execution_count": 203,
   "metadata": {
    "collapsed": true
   },
   "outputs": [],
   "source": [
    "def change_ref_to_lower(refinement_dict_list):\n",
    "    new_refinement_dict_list = []\n",
    "    for ref_dict in refinement_dict_list:\n",
    "        new_ref_dict = {}\n",
    "        for title, values in ref_dict.items():\n",
    "            new_title = title.lower()\n",
    "            new_values = values = [value.lower() for value in values]\n",
    "            new_ref_dict[new_title] = new_values\n",
    "        new_refinement_dict_list.append(new_ref_dict)\n",
    "    return new_refinement_dict_list"
   ]
  },
  {
   "cell_type": "code",
   "execution_count": 204,
   "metadata": {
    "collapsed": true
   },
   "outputs": [],
   "source": [
    "refinement_dict_list = change_ref_to_lower(refinement_dict_list)"
   ]
  },
  {
   "cell_type": "code",
   "execution_count": 205,
   "metadata": {
    "collapsed": true
   },
   "outputs": [],
   "source": [
    "prod_titles = [title.lower() for title in prod_titles]"
   ]
  },
  {
   "cell_type": "code",
   "execution_count": 206,
   "metadata": {
    "scrolled": false
   },
   "outputs": [
    {
     "data": {
      "text/plain": [
       "[{'weave type': ['machine-made', 'power-loomed', 'hand-woven', 'handmade']}]"
      ]
     },
     "execution_count": 206,
     "metadata": {},
     "output_type": "execute_result"
    }
   ],
   "source": [
    "refinement_dict_list[6:7]"
   ]
  },
  {
   "cell_type": "code",
   "execution_count": 207,
   "metadata": {
    "scrolled": true
   },
   "outputs": [
    {
     "data": {
      "text/plain": [
       "[\"safavieh natural fiber seagrass rug (5' x 8')\",\n",
       " \"safavieh casual natural fiber natural and beige border seagrass rug (8' x 10')\",\n",
       " \"safavieh handwoven natural beige seagrass area rug (9' x 12')\",\n",
       " \"safavieh casual natural fiber natural and beige border seagrass rug (6' x 9')\",\n",
       " \"safavieh casual natural fiber natural and beige border seagrass rug (4' x 6')\"]"
      ]
     },
     "execution_count": 207,
     "metadata": {},
     "output_type": "execute_result"
    }
   ],
   "source": [
    "prod_titles[:5]"
   ]
  },
  {
   "cell_type": "markdown",
   "metadata": {},
   "source": [
    "# Keyword Stats"
   ]
  },
  {
   "cell_type": "markdown",
   "metadata": {},
   "source": [
    "### Occurance Df"
   ]
  },
  {
   "cell_type": "code",
   "execution_count": 208,
   "metadata": {
    "collapsed": true
   },
   "outputs": [],
   "source": [
    "ngrams_list = []\n",
    "final_list_of_keywords = keyword.split() + [p.plural(word) for word in keyword.split()]\n",
    "for n in range(1, len(final_list_of_keywords)):\n",
    "    temp_list = list(ngrams(final_list_of_keywords,n))\n",
    "    for item in temp_list:\n",
    "        ngrams_list.append(item)"
   ]
  },
  {
   "cell_type": "code",
   "execution_count": 209,
   "metadata": {
    "collapsed": true,
    "scrolled": true
   },
   "outputs": [],
   "source": [
    "new_keyword_combinations = []\n",
    "for words in ngrams_list:\n",
    "    new_keyword_combinations.append(' '.join(words))"
   ]
  },
  {
   "cell_type": "code",
   "execution_count": 210,
   "metadata": {
    "collapsed": true
   },
   "outputs": [],
   "source": [
    "original_keyword_length = len(keyword)\n",
    "new_keyword_combinations = [keyword for keyword in new_keyword_combinations if len(keyword) <= original_keyword_length]"
   ]
  },
  {
   "cell_type": "code",
   "execution_count": 211,
   "metadata": {
    "collapsed": true,
    "scrolled": true
   },
   "outputs": [],
   "source": [
    "word_frequency = {}\n",
    "for word in new_keyword_combinations:\n",
    "    count = 0 \n",
    "    for prod_title in prod_titles:\n",
    "        if word in prod_title:\n",
    "            count += 1\n",
    "            \n",
    "    word_frequency[word] = count"
   ]
  },
  {
   "cell_type": "code",
   "execution_count": 212,
   "metadata": {
    "collapsed": true,
    "scrolled": true
   },
   "outputs": [],
   "source": [
    "df = pd.DataFrame.from_dict(word_frequency, orient=\"index\")"
   ]
  },
  {
   "cell_type": "code",
   "execution_count": 213,
   "metadata": {
    "collapsed": true
   },
   "outputs": [],
   "source": [
    "df = df.rename(columns= {0:\"count\"})"
   ]
  },
  {
   "cell_type": "code",
   "execution_count": 214,
   "metadata": {
    "scrolled": false
   },
   "outputs": [],
   "source": [
    "imp_words_df = df[df[\"count\"] != 0]"
   ]
  },
  {
   "cell_type": "code",
   "execution_count": 215,
   "metadata": {
    "collapsed": true
   },
   "outputs": [],
   "source": [
    "attrs = {}\n",
    "for word in new_keyword_combinations:\n",
    "    for d in refinement_dict_list:\n",
    "        if word in list(d.values())[0]:\n",
    "            key_name = list(d.keys())[0]\n",
    "            attrs[key_name] = word"
   ]
  },
  {
   "cell_type": "code",
   "execution_count": 216,
   "metadata": {},
   "outputs": [
    {
     "data": {
      "text/plain": [
       "{'brands': 'safavieh',\n",
       " 'colors': 'beige',\n",
       " 'materials': 'natural fiber',\n",
       " 'patterns': 'border',\n",
       " 'styles': 'casual'}"
      ]
     },
     "execution_count": 216,
     "metadata": {},
     "output_type": "execute_result"
    }
   ],
   "source": [
    "attrs"
   ]
  },
  {
   "cell_type": "code",
   "execution_count": 217,
   "metadata": {
    "scrolled": true
   },
   "outputs": [
    {
     "data": {
      "text/plain": [
       "['natural fiber natural',\n",
       " 'casual natural fiber natural and beige border',\n",
       " 'and',\n",
       " 'natural fiber natural and beige border',\n",
       " 'safavieh casual natural',\n",
       " 'fiber natural and beige border',\n",
       " 'fiber natural and beige border seagrass rug',\n",
       " 'natural and',\n",
       " 'safavieh casual natural fiber natural and beige border',\n",
       " 'fiber natural and beige',\n",
       " 'natural fiber natural and beige',\n",
       " 'safavieh casual natural fiber natural and beige',\n",
       " 'and beige border',\n",
       " 'safavieh',\n",
       " 'safavieh casual natural fiber',\n",
       " 'and beige',\n",
       " 'natural fiber',\n",
       " 'border seagrass rug',\n",
       " 'natural and beige border',\n",
       " 'casual natural fiber natural and beige border seagrass rug',\n",
       " 'fiber natural',\n",
       " 'beige border seagrass rug',\n",
       " 'rug',\n",
       " 'casual natural fiber',\n",
       " 'casual natural fiber natural',\n",
       " 'fiber natural and',\n",
       " 'natural fiber natural and beige border seagrass rug',\n",
       " 'beige border seagrass',\n",
       " 'fiber',\n",
       " 'seagrass',\n",
       " 'casual natural fiber natural and',\n",
       " 'safavieh casual',\n",
       " 'safavieh casual natural fiber natural',\n",
       " 'casual natural fiber natural and beige border seagrass',\n",
       " 'natural',\n",
       " 'casual natural',\n",
       " 'beige',\n",
       " 'beige border',\n",
       " 'casual natural fiber natural and beige',\n",
       " 'safavieh casual natural fiber natural and',\n",
       " 'safavieh casual natural fiber natural and beige border seagrass',\n",
       " 'and beige border seagrass rug',\n",
       " 'natural and beige',\n",
       " 'seagrass rug',\n",
       " 'border',\n",
       " 'natural fiber natural and beige border seagrass',\n",
       " 'casual',\n",
       " 'natural and beige border seagrass rug',\n",
       " 'fiber natural and beige border seagrass',\n",
       " 'and beige border seagrass',\n",
       " 'safavieh casual natural fiber natural and beige border seagrass rug',\n",
       " 'natural fiber natural and',\n",
       " 'natural and beige border seagrass',\n",
       " 'border seagrass']"
      ]
     },
     "execution_count": 217,
     "metadata": {},
     "output_type": "execute_result"
    }
   ],
   "source": [
    "list(imp_words_df.index)"
   ]
  },
  {
   "cell_type": "code",
   "execution_count": 218,
   "metadata": {
    "scrolled": true
   },
   "outputs": [],
   "source": [
    "def modify_prod_titles(prod_title_list, word_list):\n",
    "    regex = \"\"\n",
    "    for word in word_list:\n",
    "        regex = regex + \"\\\\b\"+word+\"\\\\b\" + \"|\"\n",
    "    regex = regex.strip(\"|\")\n",
    "    new_prod_title_list = []\n",
    "    for prod in prod_title_list:\n",
    "        temp_list = re.findall(regex,prod)\n",
    "        print(\" \".join(temp_list),\"########\", prod)\n",
    "        new_prod_title_list.append(\" \".join(temp_list))\n",
    "    \n",
    "\n",
    "    return new_prod_title_list"
   ]
  },
  {
   "cell_type": "code",
   "execution_count": 219,
   "metadata": {
    "scrolled": true
   },
   "outputs": [
    {
     "name": "stdout",
     "output_type": "stream",
     "text": [
      "safavieh natural fiber seagrass rug ######## safavieh natural fiber seagrass rug (5' x 8')\n",
      "safavieh casual natural fiber natural and beige border seagrass rug ######## safavieh casual natural fiber natural and beige border seagrass rug (8' x 10')\n",
      "safavieh natural beige seagrass rug ######## safavieh handwoven natural beige seagrass area rug (9' x 12')\n",
      "safavieh casual natural fiber natural and beige border seagrass rug ######## safavieh casual natural fiber natural and beige border seagrass rug (6' x 9')\n",
      "safavieh casual natural fiber natural and beige border seagrass rug ######## safavieh casual natural fiber natural and beige border seagrass rug (4' x 6')\n",
      "safavieh casual natural fiber natural and beige border seagrass rug ######## safavieh casual natural fiber natural and beige border seagrass rug (3' x 5')\n",
      "safavieh casual natural fiber natural beige seagrass ######## safavieh casual natural fiber hand-woven sisal natural / beige seagrass runner (2'6 x 10')\n",
      "safavieh casual natural fiber natural beige seagrass rug ######## safavieh casual natural fiber hand-woven sisal natural / beige seagrass rug (8' square)\n",
      "safavieh casual natural fiber natural and beige border seagrass ######## safavieh casual natural fiber natural and beige border seagrass runner (2'6 x 8')\n",
      "safavieh casual natural fiber natural beige seagrass rug ######## safavieh casual natural fiber hand-woven sisal natural / beige seagrass rug (8' x 10')\n",
      "safavieh casual natural fiber natural and beige border seagrass rug ######## safavieh casual natural fiber natural and beige border seagrass rug (4' square)\n",
      "safavieh casual natural fiber natural beige seagrass ######## safavieh casual natural fiber hand-woven sisal natural / beige seagrass runner (2' 6 x 6')\n",
      "safavieh casual natural fiber natural beige seagrass rug ######## safavieh casual natural fiber warm hand-woven sisal natural / beige seagrass rug (9' x 12')\n",
      "safavieh casual natural fiber natural beige seagrass ######## safavieh casual natural fiber hand-woven sisal natural / beige seagrass runner (2'6 x 12')\n",
      "safavieh casual natural fiber natural and beige border seagrass rug ######## safavieh casual natural fiber natural and beige border seagrass rug (10' x 14')\n",
      "safavieh casual natural fiber natural and border seagrass rug ######## safavieh casual natural fiber natural and grey border seagrass rug (10' x 14')\n",
      "safavieh casual natural fiber natural and border seagrass rug ######## safavieh casual natural fiber natural and ivory border seagrass rug (5' x 8')\n",
      "safavieh casual natural fiber rug ######## safavieh casual natural fiber ivory sisal sea grass rug (9' x 12')\n",
      "safavieh casual natural fiber natural beige seagrass rug ######## safavieh casual natural fiber hand-woven sisal natural / beige seagrass area rug (6' x 9')\n",
      "safavieh casual natural fiber natural and beige border seagrass rug ######## safavieh casual natural fiber natural and beige border seagrass rug (6' square)\n",
      "safavieh casual natural fiber natural rug ######## safavieh casual natural fiber natural maize/ ivory linen sisal area rug (8' x 10')\n",
      "safavieh casual natural fiber natural seagrass rug ######## safavieh casual natural fiber hand-woven natural / dark grey seagrass rug (2'6 x 6')\n",
      "safavieh casual natural fiber natural beige seagrass ######## safavieh casual natural fiber hand-woven sisal natural / beige seagrass runner (2'6 x 12')\n",
      "safavieh casual natural fiber natural beige seagrass ######## safavieh casual natural fiber hand-woven sisal natural / beige seagrass bordered runner (2'6\" x 8')\n",
      "safavieh casual natural fiber natural and beige border seagrass ######## safavieh casual natural fiber natural and beige border seagrass runner (2' 6 x 4')\n",
      "safavieh casual natural fiber beige rug ######## safavieh casual natural fiber marble/ beige sisal area rug (4' x 6')\n",
      "safavieh casual natural fiber natural ######## safavieh casual natural fiber hand-woven resorts natural / grey fine sisal runner (2' 6 x 20')\n",
      "safavieh casual natural fiber natural seagrass ######## safavieh casual natural fiber hand-woven sisal natural / black seagrass runner (2'6 x 6')\n",
      "safavieh casual natural fiber natural and border seagrass rug ######## safavieh casual natural fiber natural and black border seagrass rug (4' x 6')\n",
      "safavieh casual natural fiber natural rug ######## safavieh casual natural fiber natural maize/ ivory linen sisal area rug (9' x 12')\n",
      "safavieh casual natural fiber natural rug ######## safavieh casual natural fiber hand-woven resorts natural / grey fine sisal rug (4' x 6')\n",
      "safavieh casual natural fiber natural and beige border seagrass ######## safavieh casual natural fiber natural and beige border seagrass runner (2' 6 x 10')\n",
      "safavieh casual natural fiber natural and border seagrass rug ######## safavieh casual natural fiber natural and grey border seagrass rug (8' x 10')\n",
      "safavieh casual natural fiber natural and beige border seagrass rug ######## safavieh casual natural fiber natural and beige border seagrass rug (2' x 3')\n",
      "safavieh casual natural fiber natural rug ######## safavieh casual natural fiber hand-woven resorts natural / grey fine sisal rug (9' x 12')\n",
      "safavieh casual natural fiber natural ######## safavieh casual natural fiber hand-woven resorts natural / grey fine sisal runner (2' 6 x 6')\n",
      "safavieh casual natural fiber natural and border seagrass rug ######## safavieh casual natural fiber natural and ivory border seagrass rug (10' x 14')\n",
      "safavieh casual natural fiber natural beige rug ######## safavieh casual natural fiber hand-woven resorts natural / beige fine sisal rug (8' x 10')\n",
      "safavieh casual natural fiber natural seagrass rug ######## safavieh casual natural fiber hand-woven sisal natural / black seagrass rug (5' x 8')\n",
      "safavieh casual natural fiber ######## safavieh casual natural fiber hand-woven uni grey fine sisal runner (2'6 x 8')\n",
      "safavieh casual natural fiber and border rug ######## safavieh casual natural fiber marble and grey border sisal rug (10' x 14')\n",
      "safavieh casual natural fiber natural and border seagrass rug ######## safavieh casual natural fiber natural and black border seagrass rug (8' x 10')\n",
      "safavieh casual natural fiber natural seagrass rug ######## safavieh casual natural fiber hand-woven natural / dark grey seagrass rug (2'6 x 10')\n",
      "safavieh casual natural fiber natural ######## safavieh casual natural fiber hand-woven resorts natural / grey fine sisal runner (2' 6 x 14')\n",
      "safavieh casual natural fiber natural and border seagrass rug ######## safavieh casual natural fiber natural and grey border seagrass rug (2' x 3')\n",
      "safavieh casual natural fiber natural and border seagrass rug ######## safavieh casual natural fiber natural and ivory border seagrass rug (6' round)\n",
      "safavieh casual natural fiber natural seagrass rug ######## safavieh casual natural fiber hand-woven sisal natural / blue seagrass area rug (6' x 9')\n",
      "safavieh casual natural fiber seagrass rug ######## safavieh casual natural fiber multi seagrass area rug (10' x 14')\n",
      "safavieh casual natural fiber natural seagrass rug ######## safavieh casual natural fiber natural / ivory seagrass rug (4' square)\n",
      "safavieh casual natural fiber beige rug ######## safavieh casual natural fiber hand-woven resorts maize beige / ivory fine sisal rug\n",
      "safavieh casual natural fiber natural beige seagrass rug ######## safavieh casual natural fiber hand-woven sisal natural / beige seagrass runner rug (2'6 x 14')\n",
      "safavieh casual natural fiber natural and border seagrass rug ######## safavieh casual natural fiber natural and grey border seagrass rug (10' square)\n",
      "safavieh casual natural fiber natural and border seagrass rug ######## safavieh casual natural fiber natural and ivory border seagrass rug (8' x 10')\n",
      "safavieh casual natural fiber natural rug ######## safavieh casual natural fiber natural maize/ ivory linen sisal area rug (6' x 9')\n",
      "safavieh casual natural fiber natural and border seagrass rug ######## safavieh casual natural fiber natural and ivory border seagrass rug (8' square)\n",
      "safavieh casual natural fiber rug ######## safavieh casual natural fiber hand-woven serenity charcoal grey sisal rug (2'6 x 8')\n",
      "safavieh casual natural fiber natural and beige border seagrass rug ######## safavieh casual natural fiber natural and beige border seagrass rug (8' round)\n",
      "safavieh casual natural fiber natural beige seagrass rug ######## safavieh casual natural fiber hand-woven sisal natural / beige seagrass rug (4' x 6')\n",
      "safavieh casual natural fiber natural beige seagrass ######## safavieh casual natural fiber hand-woven sisal natural / beige seagrass runner (2'6 x 4')\n",
      "safavieh casual natural fiber natural and beige border seagrass rug ######## safavieh casual natural fiber natural and beige border seagrass rug (6' round)\n"
     ]
    }
   ],
   "source": [
    "prod_titles_modified = modify_prod_titles(prod_titles, list(imp_words_df.index))"
   ]
  },
  {
   "cell_type": "code",
   "execution_count": 220,
   "metadata": {
    "scrolled": true
   },
   "outputs": [
    {
     "data": {
      "text/plain": [
       "['safavieh natural fiber seagrass rug',\n",
       " 'safavieh casual natural fiber natural and beige border seagrass rug',\n",
       " 'safavieh natural beige seagrass rug',\n",
       " 'safavieh casual natural fiber natural and beige border seagrass rug',\n",
       " 'safavieh casual natural fiber natural and beige border seagrass rug',\n",
       " 'safavieh casual natural fiber natural and beige border seagrass rug',\n",
       " 'safavieh casual natural fiber natural beige seagrass',\n",
       " 'safavieh casual natural fiber natural beige seagrass rug',\n",
       " 'safavieh casual natural fiber natural and beige border seagrass',\n",
       " 'safavieh casual natural fiber natural beige seagrass rug',\n",
       " 'safavieh casual natural fiber natural and beige border seagrass rug',\n",
       " 'safavieh casual natural fiber natural beige seagrass',\n",
       " 'safavieh casual natural fiber natural beige seagrass rug',\n",
       " 'safavieh casual natural fiber natural beige seagrass',\n",
       " 'safavieh casual natural fiber natural and beige border seagrass rug',\n",
       " 'safavieh casual natural fiber natural and border seagrass rug',\n",
       " 'safavieh casual natural fiber natural and border seagrass rug',\n",
       " 'safavieh casual natural fiber rug',\n",
       " 'safavieh casual natural fiber natural beige seagrass rug',\n",
       " 'safavieh casual natural fiber natural and beige border seagrass rug',\n",
       " 'safavieh casual natural fiber natural rug',\n",
       " 'safavieh casual natural fiber natural seagrass rug',\n",
       " 'safavieh casual natural fiber natural beige seagrass',\n",
       " 'safavieh casual natural fiber natural beige seagrass',\n",
       " 'safavieh casual natural fiber natural and beige border seagrass',\n",
       " 'safavieh casual natural fiber beige rug',\n",
       " 'safavieh casual natural fiber natural',\n",
       " 'safavieh casual natural fiber natural seagrass',\n",
       " 'safavieh casual natural fiber natural and border seagrass rug',\n",
       " 'safavieh casual natural fiber natural rug',\n",
       " 'safavieh casual natural fiber natural rug',\n",
       " 'safavieh casual natural fiber natural and beige border seagrass',\n",
       " 'safavieh casual natural fiber natural and border seagrass rug',\n",
       " 'safavieh casual natural fiber natural and beige border seagrass rug',\n",
       " 'safavieh casual natural fiber natural rug',\n",
       " 'safavieh casual natural fiber natural',\n",
       " 'safavieh casual natural fiber natural and border seagrass rug',\n",
       " 'safavieh casual natural fiber natural beige rug',\n",
       " 'safavieh casual natural fiber natural seagrass rug',\n",
       " 'safavieh casual natural fiber',\n",
       " 'safavieh casual natural fiber and border rug',\n",
       " 'safavieh casual natural fiber natural and border seagrass rug',\n",
       " 'safavieh casual natural fiber natural seagrass rug',\n",
       " 'safavieh casual natural fiber natural',\n",
       " 'safavieh casual natural fiber natural and border seagrass rug',\n",
       " 'safavieh casual natural fiber natural and border seagrass rug',\n",
       " 'safavieh casual natural fiber natural seagrass rug',\n",
       " 'safavieh casual natural fiber seagrass rug',\n",
       " 'safavieh casual natural fiber natural seagrass rug',\n",
       " 'safavieh casual natural fiber beige rug',\n",
       " 'safavieh casual natural fiber natural beige seagrass rug',\n",
       " 'safavieh casual natural fiber natural and border seagrass rug',\n",
       " 'safavieh casual natural fiber natural and border seagrass rug',\n",
       " 'safavieh casual natural fiber natural rug',\n",
       " 'safavieh casual natural fiber natural and border seagrass rug',\n",
       " 'safavieh casual natural fiber rug',\n",
       " 'safavieh casual natural fiber natural and beige border seagrass rug',\n",
       " 'safavieh casual natural fiber natural beige seagrass rug',\n",
       " 'safavieh casual natural fiber natural beige seagrass',\n",
       " 'safavieh casual natural fiber natural and beige border seagrass rug']"
      ]
     },
     "execution_count": 220,
     "metadata": {},
     "output_type": "execute_result"
    }
   ],
   "source": [
    "prod_titles_modified"
   ]
  },
  {
   "cell_type": "code",
   "execution_count": 221,
   "metadata": {
    "scrolled": true
   },
   "outputs": [],
   "source": [
    "word_len_list = []\n",
    "for item in set(prod_titles_modified):\n",
    "    word_len_list.append(len(item))"
   ]
  },
  {
   "cell_type": "code",
   "execution_count": 222,
   "metadata": {
    "scrolled": false
   },
   "outputs": [],
   "source": [
    "mod_prod_title_df = pd.DataFrame({\"word\":list(set(prod_titles_modified)),\"length\":word_len_list})"
   ]
  },
  {
   "cell_type": "code",
   "execution_count": 223,
   "metadata": {
    "scrolled": true
   },
   "outputs": [
    {
     "data": {
      "text/html": [
       "<div>\n",
       "<table border=\"1\" class=\"dataframe\">\n",
       "  <thead>\n",
       "    <tr style=\"text-align: right;\">\n",
       "      <th></th>\n",
       "      <th>length</th>\n",
       "      <th>word</th>\n",
       "    </tr>\n",
       "  </thead>\n",
       "  <tbody>\n",
       "    <tr>\n",
       "      <th>10</th>\n",
       "      <td>67</td>\n",
       "      <td>safavieh casual natural fiber natural and beig...</td>\n",
       "    </tr>\n",
       "    <tr>\n",
       "      <th>15</th>\n",
       "      <td>63</td>\n",
       "      <td>safavieh casual natural fiber natural and beig...</td>\n",
       "    </tr>\n",
       "    <tr>\n",
       "      <th>6</th>\n",
       "      <td>61</td>\n",
       "      <td>safavieh casual natural fiber natural and bord...</td>\n",
       "    </tr>\n",
       "    <tr>\n",
       "      <th>0</th>\n",
       "      <td>56</td>\n",
       "      <td>safavieh casual natural fiber natural beige se...</td>\n",
       "    </tr>\n",
       "    <tr>\n",
       "      <th>4</th>\n",
       "      <td>52</td>\n",
       "      <td>safavieh casual natural fiber natural beige se...</td>\n",
       "    </tr>\n",
       "    <tr>\n",
       "      <th>12</th>\n",
       "      <td>50</td>\n",
       "      <td>safavieh casual natural fiber natural seagrass...</td>\n",
       "    </tr>\n",
       "    <tr>\n",
       "      <th>8</th>\n",
       "      <td>47</td>\n",
       "      <td>safavieh casual natural fiber natural beige rug</td>\n",
       "    </tr>\n",
       "    <tr>\n",
       "      <th>1</th>\n",
       "      <td>46</td>\n",
       "      <td>safavieh casual natural fiber natural seagrass</td>\n",
       "    </tr>\n",
       "    <tr>\n",
       "      <th>3</th>\n",
       "      <td>44</td>\n",
       "      <td>safavieh casual natural fiber and border rug</td>\n",
       "    </tr>\n",
       "    <tr>\n",
       "      <th>13</th>\n",
       "      <td>42</td>\n",
       "      <td>safavieh casual natural fiber seagrass rug</td>\n",
       "    </tr>\n",
       "    <tr>\n",
       "      <th>16</th>\n",
       "      <td>41</td>\n",
       "      <td>safavieh casual natural fiber natural rug</td>\n",
       "    </tr>\n",
       "    <tr>\n",
       "      <th>14</th>\n",
       "      <td>39</td>\n",
       "      <td>safavieh casual natural fiber beige rug</td>\n",
       "    </tr>\n",
       "    <tr>\n",
       "      <th>2</th>\n",
       "      <td>37</td>\n",
       "      <td>safavieh casual natural fiber natural</td>\n",
       "    </tr>\n",
       "    <tr>\n",
       "      <th>5</th>\n",
       "      <td>35</td>\n",
       "      <td>safavieh natural fiber seagrass rug</td>\n",
       "    </tr>\n",
       "    <tr>\n",
       "      <th>11</th>\n",
       "      <td>35</td>\n",
       "      <td>safavieh natural beige seagrass rug</td>\n",
       "    </tr>\n",
       "    <tr>\n",
       "      <th>7</th>\n",
       "      <td>33</td>\n",
       "      <td>safavieh casual natural fiber rug</td>\n",
       "    </tr>\n",
       "    <tr>\n",
       "      <th>9</th>\n",
       "      <td>29</td>\n",
       "      <td>safavieh casual natural fiber</td>\n",
       "    </tr>\n",
       "  </tbody>\n",
       "</table>\n",
       "</div>"
      ],
      "text/plain": [
       "    length                                               word\n",
       "10      67  safavieh casual natural fiber natural and beig...\n",
       "15      63  safavieh casual natural fiber natural and beig...\n",
       "6       61  safavieh casual natural fiber natural and bord...\n",
       "0       56  safavieh casual natural fiber natural beige se...\n",
       "4       52  safavieh casual natural fiber natural beige se...\n",
       "12      50  safavieh casual natural fiber natural seagrass...\n",
       "8       47    safavieh casual natural fiber natural beige rug\n",
       "1       46     safavieh casual natural fiber natural seagrass\n",
       "3       44       safavieh casual natural fiber and border rug\n",
       "13      42         safavieh casual natural fiber seagrass rug\n",
       "16      41          safavieh casual natural fiber natural rug\n",
       "14      39            safavieh casual natural fiber beige rug\n",
       "2       37              safavieh casual natural fiber natural\n",
       "5       35                safavieh natural fiber seagrass rug\n",
       "11      35                safavieh natural beige seagrass rug\n",
       "7       33                  safavieh casual natural fiber rug\n",
       "9       29                      safavieh casual natural fiber"
      ]
     },
     "execution_count": 223,
     "metadata": {},
     "output_type": "execute_result"
    }
   ],
   "source": [
    "mod_prod_title_df.sort_values(by= \"length\", ascending=False)"
   ]
  },
  {
   "cell_type": "code",
   "execution_count": 226,
   "metadata": {
    "scrolled": true
   },
   "outputs": [
    {
     "data": {
      "text/plain": [
       "0     safavieh casual natural fiber natural beige se...\n",
       "1        safavieh casual natural fiber natural seagrass\n",
       "2                 safavieh casual natural fiber natural\n",
       "3          safavieh casual natural fiber and border rug\n",
       "4     safavieh casual natural fiber natural beige se...\n",
       "5                   safavieh natural fiber seagrass rug\n",
       "6     safavieh casual natural fiber natural and bord...\n",
       "7                     safavieh casual natural fiber rug\n",
       "8       safavieh casual natural fiber natural beige rug\n",
       "9                         safavieh casual natural fiber\n",
       "10    safavieh casual natural fiber natural and beig...\n",
       "11                  safavieh natural beige seagrass rug\n",
       "12    safavieh casual natural fiber natural seagrass...\n",
       "13           safavieh casual natural fiber seagrass rug\n",
       "14              safavieh casual natural fiber beige rug\n",
       "15    safavieh casual natural fiber natural and beig...\n",
       "16            safavieh casual natural fiber natural rug\n",
       "Name: word, dtype: object"
      ]
     },
     "execution_count": 226,
     "metadata": {},
     "output_type": "execute_result"
    }
   ],
   "source": [
    "mod_prod_title_df[\"word\"]"
   ]
  },
  {
   "cell_type": "code",
   "execution_count": 225,
   "metadata": {},
   "outputs": [
    {
     "data": {
      "text/plain": [
       "'safavieh casual natural fiber natural and beige border seagrass rug'"
      ]
     },
     "execution_count": 225,
     "metadata": {},
     "output_type": "execute_result"
    }
   ],
   "source": [
    "keyword"
   ]
  },
  {
   "cell_type": "code",
   "execution_count": 230,
   "metadata": {
    "scrolled": true
   },
   "outputs": [
    {
     "data": {
      "text/html": [
       "<div>\n",
       "<table border=\"1\" class=\"dataframe\">\n",
       "  <thead>\n",
       "    <tr style=\"text-align: right;\">\n",
       "      <th></th>\n",
       "      <th>count</th>\n",
       "    </tr>\n",
       "  </thead>\n",
       "  <tbody>\n",
       "    <tr>\n",
       "      <th>natural</th>\n",
       "      <td>60</td>\n",
       "    </tr>\n",
       "    <tr>\n",
       "      <th>safavieh</th>\n",
       "      <td>60</td>\n",
       "    </tr>\n",
       "    <tr>\n",
       "      <th>natural fiber</th>\n",
       "      <td>59</td>\n",
       "    </tr>\n",
       "    <tr>\n",
       "      <th>fiber</th>\n",
       "      <td>59</td>\n",
       "    </tr>\n",
       "    <tr>\n",
       "      <th>casual natural fiber</th>\n",
       "      <td>58</td>\n",
       "    </tr>\n",
       "    <tr>\n",
       "      <th>safavieh casual natural</th>\n",
       "      <td>58</td>\n",
       "    </tr>\n",
       "    <tr>\n",
       "      <th>casual</th>\n",
       "      <td>58</td>\n",
       "    </tr>\n",
       "    <tr>\n",
       "      <th>casual natural</th>\n",
       "      <td>58</td>\n",
       "    </tr>\n",
       "    <tr>\n",
       "      <th>safavieh casual natural fiber</th>\n",
       "      <td>58</td>\n",
       "    </tr>\n",
       "    <tr>\n",
       "      <th>safavieh casual</th>\n",
       "      <td>58</td>\n",
       "    </tr>\n",
       "    <tr>\n",
       "      <th>and</th>\n",
       "      <td>52</td>\n",
       "    </tr>\n",
       "    <tr>\n",
       "      <th>rug</th>\n",
       "      <td>46</td>\n",
       "    </tr>\n",
       "    <tr>\n",
       "      <th>seagrass</th>\n",
       "      <td>45</td>\n",
       "    </tr>\n",
       "    <tr>\n",
       "      <th>seagrass rug</th>\n",
       "      <td>30</td>\n",
       "    </tr>\n",
       "    <tr>\n",
       "      <th>beige</th>\n",
       "      <td>29</td>\n",
       "    </tr>\n",
       "    <tr>\n",
       "      <th>fiber natural</th>\n",
       "      <td>28</td>\n",
       "    </tr>\n",
       "    <tr>\n",
       "      <th>natural fiber natural</th>\n",
       "      <td>28</td>\n",
       "    </tr>\n",
       "    <tr>\n",
       "      <th>casual natural fiber natural</th>\n",
       "      <td>28</td>\n",
       "    </tr>\n",
       "    <tr>\n",
       "      <th>safavieh casual natural fiber natural</th>\n",
       "      <td>28</td>\n",
       "    </tr>\n",
       "    <tr>\n",
       "      <th>border</th>\n",
       "      <td>26</td>\n",
       "    </tr>\n",
       "    <tr>\n",
       "      <th>casual natural fiber natural and</th>\n",
       "      <td>24</td>\n",
       "    </tr>\n",
       "    <tr>\n",
       "      <th>safavieh casual natural fiber natural and</th>\n",
       "      <td>24</td>\n",
       "    </tr>\n",
       "    <tr>\n",
       "      <th>fiber natural and</th>\n",
       "      <td>24</td>\n",
       "    </tr>\n",
       "    <tr>\n",
       "      <th>natural fiber natural and</th>\n",
       "      <td>24</td>\n",
       "    </tr>\n",
       "    <tr>\n",
       "      <th>border seagrass</th>\n",
       "      <td>24</td>\n",
       "    </tr>\n",
       "    <tr>\n",
       "      <th>natural and</th>\n",
       "      <td>24</td>\n",
       "    </tr>\n",
       "    <tr>\n",
       "      <th>border seagrass rug</th>\n",
       "      <td>21</td>\n",
       "    </tr>\n",
       "    <tr>\n",
       "      <th>safavieh casual natural fiber natural and beige border</th>\n",
       "      <td>13</td>\n",
       "    </tr>\n",
       "    <tr>\n",
       "      <th>casual natural fiber natural and beige</th>\n",
       "      <td>13</td>\n",
       "    </tr>\n",
       "    <tr>\n",
       "      <th>natural and beige border seagrass</th>\n",
       "      <td>13</td>\n",
       "    </tr>\n",
       "    <tr>\n",
       "      <th>natural fiber natural and beige border</th>\n",
       "      <td>13</td>\n",
       "    </tr>\n",
       "    <tr>\n",
       "      <th>and beige border seagrass</th>\n",
       "      <td>13</td>\n",
       "    </tr>\n",
       "    <tr>\n",
       "      <th>fiber natural and beige border seagrass</th>\n",
       "      <td>13</td>\n",
       "    </tr>\n",
       "    <tr>\n",
       "      <th>fiber natural and beige border</th>\n",
       "      <td>13</td>\n",
       "    </tr>\n",
       "    <tr>\n",
       "      <th>natural fiber natural and beige border seagrass</th>\n",
       "      <td>13</td>\n",
       "    </tr>\n",
       "    <tr>\n",
       "      <th>natural and beige</th>\n",
       "      <td>13</td>\n",
       "    </tr>\n",
       "    <tr>\n",
       "      <th>safavieh casual natural fiber natural and beige border seagrass</th>\n",
       "      <td>13</td>\n",
       "    </tr>\n",
       "    <tr>\n",
       "      <th>beige border seagrass</th>\n",
       "      <td>13</td>\n",
       "    </tr>\n",
       "    <tr>\n",
       "      <th>beige border</th>\n",
       "      <td>13</td>\n",
       "    </tr>\n",
       "    <tr>\n",
       "      <th>fiber natural and beige</th>\n",
       "      <td>13</td>\n",
       "    </tr>\n",
       "    <tr>\n",
       "      <th>natural fiber natural and beige</th>\n",
       "      <td>13</td>\n",
       "    </tr>\n",
       "    <tr>\n",
       "      <th>safavieh casual natural fiber natural and beige</th>\n",
       "      <td>13</td>\n",
       "    </tr>\n",
       "    <tr>\n",
       "      <th>casual natural fiber natural and beige border seagrass</th>\n",
       "      <td>13</td>\n",
       "    </tr>\n",
       "    <tr>\n",
       "      <th>and beige border</th>\n",
       "      <td>13</td>\n",
       "    </tr>\n",
       "    <tr>\n",
       "      <th>and beige</th>\n",
       "      <td>13</td>\n",
       "    </tr>\n",
       "    <tr>\n",
       "      <th>natural and beige border</th>\n",
       "      <td>13</td>\n",
       "    </tr>\n",
       "    <tr>\n",
       "      <th>casual natural fiber natural and beige border</th>\n",
       "      <td>13</td>\n",
       "    </tr>\n",
       "    <tr>\n",
       "      <th>natural fiber natural and beige border seagrass rug</th>\n",
       "      <td>10</td>\n",
       "    </tr>\n",
       "    <tr>\n",
       "      <th>and beige border seagrass rug</th>\n",
       "      <td>10</td>\n",
       "    </tr>\n",
       "    <tr>\n",
       "      <th>fiber natural and beige border seagrass rug</th>\n",
       "      <td>10</td>\n",
       "    </tr>\n",
       "    <tr>\n",
       "      <th>natural and beige border seagrass rug</th>\n",
       "      <td>10</td>\n",
       "    </tr>\n",
       "    <tr>\n",
       "      <th>safavieh casual natural fiber natural and beige border seagrass rug</th>\n",
       "      <td>10</td>\n",
       "    </tr>\n",
       "    <tr>\n",
       "      <th>casual natural fiber natural and beige border seagrass rug</th>\n",
       "      <td>10</td>\n",
       "    </tr>\n",
       "    <tr>\n",
       "      <th>beige border seagrass rug</th>\n",
       "      <td>10</td>\n",
       "    </tr>\n",
       "  </tbody>\n",
       "</table>\n",
       "</div>"
      ],
      "text/plain": [
       "                                                    count\n",
       "natural                                                60\n",
       "safavieh                                               60\n",
       "natural fiber                                          59\n",
       "fiber                                                  59\n",
       "casual natural fiber                                   58\n",
       "safavieh casual natural                                58\n",
       "casual                                                 58\n",
       "casual natural                                         58\n",
       "safavieh casual natural fiber                          58\n",
       "safavieh casual                                        58\n",
       "and                                                    52\n",
       "rug                                                    46\n",
       "seagrass                                               45\n",
       "seagrass rug                                           30\n",
       "beige                                                  29\n",
       "fiber natural                                          28\n",
       "natural fiber natural                                  28\n",
       "casual natural fiber natural                           28\n",
       "safavieh casual natural fiber natural                  28\n",
       "border                                                 26\n",
       "casual natural fiber natural and                       24\n",
       "safavieh casual natural fiber natural and              24\n",
       "fiber natural and                                      24\n",
       "natural fiber natural and                              24\n",
       "border seagrass                                        24\n",
       "natural and                                            24\n",
       "border seagrass rug                                    21\n",
       "safavieh casual natural fiber natural and beige...     13\n",
       "casual natural fiber natural and beige                 13\n",
       "natural and beige border seagrass                      13\n",
       "natural fiber natural and beige border                 13\n",
       "and beige border seagrass                              13\n",
       "fiber natural and beige border seagrass                13\n",
       "fiber natural and beige border                         13\n",
       "natural fiber natural and beige border seagrass        13\n",
       "natural and beige                                      13\n",
       "safavieh casual natural fiber natural and beige...     13\n",
       "beige border seagrass                                  13\n",
       "beige border                                           13\n",
       "fiber natural and beige                                13\n",
       "natural fiber natural and beige                        13\n",
       "safavieh casual natural fiber natural and beige        13\n",
       "casual natural fiber natural and beige border s...     13\n",
       "and beige border                                       13\n",
       "and beige                                              13\n",
       "natural and beige border                               13\n",
       "casual natural fiber natural and beige border          13\n",
       "natural fiber natural and beige border seagrass...     10\n",
       "and beige border seagrass rug                          10\n",
       "fiber natural and beige border seagrass rug            10\n",
       "natural and beige border seagrass rug                  10\n",
       "safavieh casual natural fiber natural and beige...     10\n",
       "casual natural fiber natural and beige border s...     10\n",
       "beige border seagrass rug                              10"
      ]
     },
     "execution_count": 230,
     "metadata": {},
     "output_type": "execute_result"
    }
   ],
   "source": [
    "imp_words_df.sort_values(by = \"count\", ascending=False)"
   ]
  },
  {
   "cell_type": "code",
   "execution_count": null,
   "metadata": {
    "collapsed": true
   },
   "outputs": [],
   "source": []
  }
 ],
 "metadata": {
  "kernelspec": {
   "display_name": "Python [Root]",
   "language": "python",
   "name": "Python [Root]"
  },
  "language_info": {
   "codemirror_mode": {
    "name": "ipython",
    "version": 3
   },
   "file_extension": ".py",
   "mimetype": "text/x-python",
   "name": "python",
   "nbconvert_exporter": "python",
   "pygments_lexer": "ipython3",
   "version": "3.5.2"
  }
 },
 "nbformat": 4,
 "nbformat_minor": 2
}

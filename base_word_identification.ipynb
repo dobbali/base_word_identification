{
 "cells": [
  {
   "cell_type": "code",
   "execution_count": 108,
   "metadata": {
    "collapsed": true
   },
   "outputs": [],
   "source": [
    "from url_checker import UrlCheck\n",
    "from bs4 import BeautifulSoup\n",
    "import re\n",
    "\n",
    "import inflect\n",
    "p = inflect.engine()\n",
    "\n",
    "import spacy"
   ]
  },
  {
   "cell_type": "code",
   "execution_count": 109,
   "metadata": {
    "collapsed": true,
    "scrolled": true
   },
   "outputs": [],
   "source": [
    "import pandas as pd\n",
    "\n",
    "keywords = pd.read_excel(\"combined.xlsx\",sheetname=\"Jewelry\")\n",
    "keywords[\"keyword_len\"] = keywords[\"Keyword\"].apply(len)\n",
    "\n",
    "keywords = keywords.sort_values(by =\"keyword_len\", ascending = False)\n",
    "keywords = keywords.reset_index(drop = True)"
   ]
  },
  {
   "cell_type": "code",
   "execution_count": 110,
   "metadata": {
    "collapsed": true
   },
   "outputs": [],
   "source": [
    "def build_url_from_keyword(keyword):\n",
    "    base_url = \"https://www.overstock.com/search?keywords=\"\n",
    "    keyword_for_url = keyword.replace(\" \",\"+\")\n",
    "    final_url = base_url + keyword_for_url\n",
    "    return final_url"
   ]
  },
  {
   "cell_type": "code",
   "execution_count": 111,
   "metadata": {
    "collapsed": true
   },
   "outputs": [],
   "source": [
    "def get_soup(url):\n",
    "    check = UrlCheck()\n",
    "    req = check.get_request(url)\n",
    "    return BeautifulSoup(req.text, 'lxml')"
   ]
  },
  {
   "cell_type": "code",
   "execution_count": 112,
   "metadata": {
    "collapsed": true
   },
   "outputs": [],
   "source": [
    "def get_prod_titles(soup):\n",
    "    prod_titles = soup.findAll(\"div\", { \"class\" : \"product-title\"}) \n",
    "    text_title = []\n",
    "    for title in prod_titles:\n",
    "        text_title.append(title.get_text())\n",
    "    return text_title"
   ]
  },
  {
   "cell_type": "code",
   "execution_count": 113,
   "metadata": {
    "collapsed": true
   },
   "outputs": [],
   "source": [
    "def get_refinement_group(soup):\n",
    "    refinements_titles = soup.findAll(\"div\",{\"class\":\"refinement-group\"})\n",
    "    text_title = []\n",
    "    for title in refinements_titles:\n",
    "        text_title.append(title)\n",
    "    return text_title"
   ]
  },
  {
   "cell_type": "code",
   "execution_count": 114,
   "metadata": {
    "collapsed": true
   },
   "outputs": [],
   "source": [
    "def get_refinement(refinement_group):\n",
    "    refinements = refinement_group.findAll(\"li\",{\"class\":\"refinement-item\"})\n",
    "    heading = refinement_group.find(\"h3\", {\"class\":\"refinement-heading\"}).get_text()\n",
    "    refs = []\n",
    "    for title in refinements:\n",
    "        refs.append(title.get_text())\n",
    "    \n",
    "    refs = [re.sub(\"\\(\\d*\\)\",\"\", item.strip()) for item in refs]\n",
    "    refs = [re.sub(\"\\(\\d,\\d*\\)\",\"\", item.strip()) for item in refs]\n",
    "    final_ref_group = {}\n",
    "    final_ref_group[heading] = refs\n",
    "    return final_ref_group"
   ]
  },
  {
   "cell_type": "code",
   "execution_count": 115,
   "metadata": {
    "collapsed": true
   },
   "outputs": [],
   "source": [
    "# get rid of this ['Jewelry & Watch Store ', 'Worldstock Fair Trade ', 'Holiday ', 'Pet Supply Store ', 'Main Street Revolution ']"
   ]
  },
  {
   "cell_type": "code",
   "execution_count": 116,
   "metadata": {
    "collapsed": true,
    "scrolled": true
   },
   "outputs": [],
   "source": [
    "url = build_url_from_keyword(\"diamond engagement ring with sapphire side stones\")  #sterling silver wedding ring sets for him and her\n",
    "soup = get_soup(url)\n",
    "prod_titles = get_prod_titles(soup)"
   ]
  },
  {
   "cell_type": "code",
   "execution_count": 117,
   "metadata": {
    "collapsed": true
   },
   "outputs": [],
   "source": [
    "group = get_refinement_group(soup)"
   ]
  },
  {
   "cell_type": "code",
   "execution_count": 118,
   "metadata": {
    "collapsed": true
   },
   "outputs": [],
   "source": [
    "refinement_dict_list = []\n",
    "for g in group:\n",
    "    refinement_dict_list.append(get_refinement(g))"
   ]
  },
  {
   "cell_type": "markdown",
   "metadata": {},
   "source": [
    "### Modify input and output"
   ]
  },
  {
   "cell_type": "code",
   "execution_count": 119,
   "metadata": {
    "collapsed": true
   },
   "outputs": [],
   "source": [
    "keyword  = \"diamond engagement ring with sapphire side stones\"\n",
    "\n",
    "def change_ref_to_lower(refinement_dict_list):\n",
    "    new_refinement_dict_list = []\n",
    "    for ref_dict in refinement_dict_list:\n",
    "        new_ref_dict = {}\n",
    "        for title, values in ref_dict.items():\n",
    "            new_title = title.lower()\n",
    "            new_values = values = [value.lower() for value in values]\n",
    "            new_ref_dict[new_title] = new_values\n",
    "        new_refinement_dict_list.append(new_ref_dict)\n",
    "    return new_refinement_dict_list"
   ]
  },
  {
   "cell_type": "code",
   "execution_count": 120,
   "metadata": {
    "collapsed": true
   },
   "outputs": [],
   "source": [
    "refinement_dict_list = change_ref_to_lower(refinement_dict_list)"
   ]
  },
  {
   "cell_type": "code",
   "execution_count": 121,
   "metadata": {
    "collapsed": true
   },
   "outputs": [],
   "source": [
    "prod_titles = [title.lower() for title in prod_titles]"
   ]
  },
  {
   "cell_type": "markdown",
   "metadata": {},
   "source": [
    "### Occurance Df"
   ]
  },
  {
   "cell_type": "code",
   "execution_count": 122,
   "metadata": {
    "collapsed": true
   },
   "outputs": [],
   "source": [
    "from nltk import ngrams"
   ]
  },
  {
   "cell_type": "code",
   "execution_count": 123,
   "metadata": {
    "collapsed": true
   },
   "outputs": [],
   "source": [
    "ngrams_list = []\n",
    "final_list_of_keywords = keyword.split() + [p.plural(word) for word in keyword.split()]\n",
    "for n in range(1, len(final_list_of_keywords)):\n",
    "    temp_list = list(ngrams(final_list_of_keywords,n))\n",
    "    for item in temp_list:\n",
    "        ngrams_list.append(item)"
   ]
  },
  {
   "cell_type": "code",
   "execution_count": 124,
   "metadata": {
    "collapsed": true,
    "scrolled": true
   },
   "outputs": [],
   "source": [
    "new_keyword_combinations = []\n",
    "for words in ngrams_list:\n",
    "    new_keyword_combinations.append(' '.join(words))"
   ]
  },
  {
   "cell_type": "code",
   "execution_count": 125,
   "metadata": {
    "collapsed": true
   },
   "outputs": [],
   "source": [
    "original_keyword_length = len(keyword)\n",
    "new_keyword_combinations = [keyword for keyword in new_keyword_combinations if len(keyword) <= original_keyword_length]"
   ]
  },
  {
   "cell_type": "code",
   "execution_count": 126,
   "metadata": {
    "collapsed": true,
    "scrolled": true
   },
   "outputs": [],
   "source": [
    "word_frequency = {}\n",
    "for word in new_keyword_combinations:\n",
    "    count = 0 \n",
    "    for prod_title in prod_titles:\n",
    "        if word in prod_title:\n",
    "            count += 1\n",
    "            \n",
    "    word_frequency[word] = count"
   ]
  },
  {
   "cell_type": "code",
   "execution_count": 127,
   "metadata": {
    "collapsed": true,
    "scrolled": true
   },
   "outputs": [],
   "source": [
    "df = pd.DataFrame.from_dict(word_frequency, orient=\"index\")"
   ]
  },
  {
   "cell_type": "code",
   "execution_count": 128,
   "metadata": {
    "collapsed": true
   },
   "outputs": [],
   "source": [
    "df = df.rename(columns= {0:\"count\"})"
   ]
  },
  {
   "cell_type": "code",
   "execution_count": 129,
   "metadata": {
    "scrolled": false
   },
   "outputs": [
    {
     "data": {
      "text/html": [
       "<div>\n",
       "<table border=\"1\" class=\"dataframe\">\n",
       "  <thead>\n",
       "    <tr style=\"text-align: right;\">\n",
       "      <th></th>\n",
       "      <th>count</th>\n",
       "    </tr>\n",
       "  </thead>\n",
       "  <tbody>\n",
       "    <tr>\n",
       "      <th>and</th>\n",
       "      <td>37</td>\n",
       "    </tr>\n",
       "    <tr>\n",
       "      <th>ring</th>\n",
       "      <td>57</td>\n",
       "    </tr>\n",
       "    <tr>\n",
       "      <th>sterling silver</th>\n",
       "      <td>15</td>\n",
       "    </tr>\n",
       "    <tr>\n",
       "      <th>set</th>\n",
       "      <td>13</td>\n",
       "    </tr>\n",
       "    <tr>\n",
       "      <th>silver</th>\n",
       "      <td>15</td>\n",
       "    </tr>\n",
       "    <tr>\n",
       "      <th>wedding</th>\n",
       "      <td>2</td>\n",
       "    </tr>\n",
       "    <tr>\n",
       "      <th>wedding ring</th>\n",
       "      <td>2</td>\n",
       "    </tr>\n",
       "    <tr>\n",
       "      <th>sterling</th>\n",
       "      <td>15</td>\n",
       "    </tr>\n",
       "  </tbody>\n",
       "</table>\n",
       "</div>"
      ],
      "text/plain": [
       "                 count\n",
       "and                 37\n",
       "ring                57\n",
       "sterling silver     15\n",
       "set                 13\n",
       "silver              15\n",
       "wedding              2\n",
       "wedding ring         2\n",
       "sterling            15"
      ]
     },
     "execution_count": 129,
     "metadata": {},
     "output_type": "execute_result"
    }
   ],
   "source": [
    "df[df[\"count\"] != 0]"
   ]
  },
  {
   "cell_type": "code",
   "execution_count": 130,
   "metadata": {},
   "outputs": [
    {
     "data": {
      "text/plain": [
       "['sales & promotions']"
      ]
     },
     "execution_count": 130,
     "metadata": {},
     "output_type": "execute_result"
    }
   ],
   "source": [
    "list(refinement_dict_list[1].keys())"
   ]
  },
  {
   "cell_type": "code",
   "execution_count": 131,
   "metadata": {
    "collapsed": true
   },
   "outputs": [],
   "source": [
    "attrs = {}\n",
    "for word in new_keyword_combinations:\n",
    "    for d in refinement_dict_list:\n",
    "        if word in list(d.values())[0]:\n",
    "            key_name = list(d.keys())[0]\n",
    "            attrs[key_name] = word"
   ]
  },
  {
   "cell_type": "code",
   "execution_count": 132,
   "metadata": {},
   "outputs": [
    {
     "data": {
      "text/plain": [
       "{'metal colors': 'silver',\n",
       " 'metals': 'sterling silver',\n",
       " 'ring styles': 'wedding ring sets'}"
      ]
     },
     "execution_count": 132,
     "metadata": {},
     "output_type": "execute_result"
    }
   ],
   "source": [
    "attrs"
   ]
  }
 ],
 "metadata": {
  "kernelspec": {
   "display_name": "Python [Root]",
   "language": "python",
   "name": "Python [Root]"
  },
  "language_info": {
   "codemirror_mode": {
    "name": "ipython",
    "version": 3
   },
   "file_extension": ".py",
   "mimetype": "text/x-python",
   "name": "python",
   "nbconvert_exporter": "python",
   "pygments_lexer": "ipython3",
   "version": "3.5.2"
  }
 },
 "nbformat": 4,
 "nbformat_minor": 2
}

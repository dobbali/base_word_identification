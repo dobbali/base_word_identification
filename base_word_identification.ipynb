{
 "cells": [
  {
   "cell_type": "markdown",
   "metadata": {},
   "source": [
    "# Getting Data"
   ]
  },
  {
   "cell_type": "markdown",
   "metadata": {},
   "source": [
    "### Import libraries"
   ]
  },
  {
   "cell_type": "code",
   "execution_count": 232,
   "metadata": {
    "collapsed": true
   },
   "outputs": [],
   "source": [
    "from url_checker import UrlCheck\n",
    "from bs4 import BeautifulSoup\n",
    "import re\n",
    "\n",
    "import inflect\n",
    "p = inflect.engine()\n",
    "\n",
    "import spacy\n",
    "\n",
    "import pandas as pd\n",
    "\n",
    "from nltk import ngrams"
   ]
  },
  {
   "cell_type": "markdown",
   "metadata": {},
   "source": [
    "### Sample Keywords Data"
   ]
  },
  {
   "cell_type": "code",
   "execution_count": 233,
   "metadata": {
    "collapsed": true,
    "scrolled": true
   },
   "outputs": [],
   "source": [
    "keywords = pd.read_excel(\"combined.xlsx\",sheetname=\"Jewelry\")\n",
    "keywords[\"keyword_len\"] = keywords[\"Keyword\"].apply(len)\n",
    "\n",
    "keywords = keywords.sort_values(by =\"keyword_len\", ascending = False)\n",
    "keywords = keywords.reset_index(drop = True)"
   ]
  },
  {
   "cell_type": "code",
   "execution_count": 234,
   "metadata": {
    "collapsed": true
   },
   "outputs": [],
   "source": [
    "def build_url_from_keyword(keyword):\n",
    "    base_url = \"https://www.overstock.com/search?keywords=\"\n",
    "    keyword_for_url = keyword.replace(\" \",\"+\")\n",
    "    final_url = base_url + keyword_for_url\n",
    "    return final_url"
   ]
  },
  {
   "cell_type": "code",
   "execution_count": 235,
   "metadata": {
    "collapsed": true
   },
   "outputs": [],
   "source": [
    "def get_soup(url):\n",
    "    check = UrlCheck()\n",
    "    req = check.get_request(url)\n",
    "    return BeautifulSoup(req.text, 'lxml')"
   ]
  },
  {
   "cell_type": "code",
   "execution_count": 236,
   "metadata": {
    "collapsed": true
   },
   "outputs": [],
   "source": [
    "def get_prod_titles(soup):\n",
    "    prod_titles = soup.findAll(\"div\", { \"class\" : \"product-title\"}) \n",
    "    text_title = []\n",
    "    for title in prod_titles:\n",
    "        text_title.append(title.get_text())\n",
    "    return text_title"
   ]
  },
  {
   "cell_type": "code",
   "execution_count": 237,
   "metadata": {
    "collapsed": true
   },
   "outputs": [],
   "source": [
    "def get_refinement_group(soup):\n",
    "    refinements_titles = soup.findAll(\"div\",{\"class\":\"refinement-group\"})\n",
    "    text_title = []\n",
    "    for title in refinements_titles:\n",
    "        text_title.append(title)\n",
    "    return text_title"
   ]
  },
  {
   "cell_type": "code",
   "execution_count": 238,
   "metadata": {
    "collapsed": true
   },
   "outputs": [],
   "source": [
    "def get_refinement(refinement_group):\n",
    "    refinements = refinement_group.findAll(\"li\",{\"class\":\"refinement-item\"})\n",
    "    heading = refinement_group.find(\"h3\", {\"class\":\"refinement-heading\"}).get_text()\n",
    "    refs = []\n",
    "    for title in refinements:\n",
    "        refs.append(title.get_text())\n",
    "    \n",
    "    refs = [re.sub(\"\\(\\d*\\)\",\"\", item.strip()) for item in refs]\n",
    "    refs = [re.sub(\"\\(\\d,\\d*\\)\",\"\", item.strip()) for item in refs]\n",
    "    final_ref_group = {}\n",
    "    final_ref_group[heading] = refs\n",
    "    return final_ref_group"
   ]
  },
  {
   "cell_type": "code",
   "execution_count": 239,
   "metadata": {
    "collapsed": true
   },
   "outputs": [],
   "source": [
    "# get rid of this ['Jewelry & Watch Store ', 'Worldstock Fair Trade ', 'Holiday ', 'Pet Supply Store ', 'Main Street Revolution ']"
   ]
  },
  {
   "cell_type": "code",
   "execution_count": 240,
   "metadata": {
    "scrolled": true
   },
   "outputs": [
    {
     "name": "stdout",
     "output_type": "stream",
     "text": [
      "engagement rings with sapphire side stones\n"
     ]
    }
   ],
   "source": [
    "keyword = keywords[\"Keyword\"][69]\n",
    "\n",
    "print(keyword)"
   ]
  },
  {
   "cell_type": "code",
   "execution_count": 241,
   "metadata": {
    "collapsed": true,
    "scrolled": true
   },
   "outputs": [],
   "source": [
    "url = build_url_from_keyword(keyword)  #sterling silver wedding ring sets for him and her\n",
    "soup = get_soup(url)\n",
    "prod_titles = get_prod_titles(soup)"
   ]
  },
  {
   "cell_type": "code",
   "execution_count": 242,
   "metadata": {
    "collapsed": true
   },
   "outputs": [],
   "source": [
    "group = get_refinement_group(soup)"
   ]
  },
  {
   "cell_type": "code",
   "execution_count": 243,
   "metadata": {
    "collapsed": true
   },
   "outputs": [],
   "source": [
    "refinement_dict_list = []\n",
    "for g in group:\n",
    "    refinement_dict_list.append(get_refinement(g))"
   ]
  },
  {
   "cell_type": "code",
   "execution_count": 244,
   "metadata": {},
   "outputs": [
    {
     "data": {
      "text/plain": [
       "'engagement rings with sapphire side stones'"
      ]
     },
     "execution_count": 244,
     "metadata": {},
     "output_type": "execute_result"
    }
   ],
   "source": [
    "keyword"
   ]
  },
  {
   "cell_type": "markdown",
   "metadata": {},
   "source": [
    "### Modify input and output"
   ]
  },
  {
   "cell_type": "code",
   "execution_count": 245,
   "metadata": {
    "collapsed": true
   },
   "outputs": [],
   "source": [
    "def change_ref_to_lower(refinement_dict_list):\n",
    "    new_refinement_dict_list = []\n",
    "    for ref_dict in refinement_dict_list:\n",
    "        new_ref_dict = {}\n",
    "        for title, values in ref_dict.items():\n",
    "            new_title = title.lower()\n",
    "            new_values = values = [value.lower() for value in values]\n",
    "            new_ref_dict[new_title] = new_values\n",
    "        new_refinement_dict_list.append(new_ref_dict)\n",
    "    return new_refinement_dict_list"
   ]
  },
  {
   "cell_type": "code",
   "execution_count": 246,
   "metadata": {
    "collapsed": true
   },
   "outputs": [],
   "source": [
    "refinement_dict_list = change_ref_to_lower(refinement_dict_list)"
   ]
  },
  {
   "cell_type": "code",
   "execution_count": 247,
   "metadata": {
    "collapsed": true
   },
   "outputs": [],
   "source": [
    "prod_titles = [title.lower() for title in prod_titles]"
   ]
  },
  {
   "cell_type": "code",
   "execution_count": 248,
   "metadata": {
    "scrolled": false
   },
   "outputs": [
    {
     "data": {
      "text/plain": [
       "[{'stone shapes': ['round',\n",
       "   'princess',\n",
       "   'cushion',\n",
       "   'oval',\n",
       "   'baguette',\n",
       "   'emerald',\n",
       "   'marquise',\n",
       "   'radiant',\n",
       "   'heart',\n",
       "   'pear',\n",
       "   'asscher',\n",
       "   'trillion']}]"
      ]
     },
     "execution_count": 248,
     "metadata": {},
     "output_type": "execute_result"
    }
   ],
   "source": [
    "refinement_dict_list[6:7]"
   ]
  },
  {
   "cell_type": "code",
   "execution_count": 249,
   "metadata": {
    "scrolled": true
   },
   "outputs": [
    {
     "data": {
      "text/plain": [
       "['miadora 10k white gold created white sapphire and diamond 3-stone engagement ring',\n",
       " 'simon frank cushion-cut rhodium-overlay cubic zirconia ring',\n",
       " 'miadora sterling silver cushion and round-cut created white sapphire halo 3-piece bridal ring set',\n",
       " 'miadora sterling silver sapphire and diamond accent halo cocktail ring',\n",
       " '14k white gold 3/4 ct tdw halo diamond split engagement ring']"
      ]
     },
     "execution_count": 249,
     "metadata": {},
     "output_type": "execute_result"
    }
   ],
   "source": [
    "prod_titles[:5]"
   ]
  },
  {
   "cell_type": "markdown",
   "metadata": {},
   "source": [
    "# Keyword Stats"
   ]
  },
  {
   "cell_type": "markdown",
   "metadata": {},
   "source": [
    "### Occurance Df"
   ]
  },
  {
   "cell_type": "code",
   "execution_count": 250,
   "metadata": {
    "collapsed": true
   },
   "outputs": [],
   "source": [
    "ngrams_list = []\n",
    "final_list_of_keywords = keyword.split() + [p.plural(word) for word in keyword.split()]\n",
    "for n in range(1, len(final_list_of_keywords)):\n",
    "    temp_list = list(ngrams(final_list_of_keywords,n))\n",
    "    for item in temp_list:\n",
    "        ngrams_list.append(item)"
   ]
  },
  {
   "cell_type": "code",
   "execution_count": 251,
   "metadata": {
    "collapsed": true,
    "scrolled": true
   },
   "outputs": [],
   "source": [
    "new_keyword_combinations = []\n",
    "for words in ngrams_list:\n",
    "    new_keyword_combinations.append(' '.join(words))"
   ]
  },
  {
   "cell_type": "code",
   "execution_count": 252,
   "metadata": {
    "collapsed": true
   },
   "outputs": [],
   "source": [
    "original_keyword_length = len(keyword)\n",
    "new_keyword_combinations = [keyword for keyword in new_keyword_combinations if len(keyword) <= original_keyword_length]"
   ]
  },
  {
   "cell_type": "code",
   "execution_count": 253,
   "metadata": {
    "collapsed": true,
    "scrolled": true
   },
   "outputs": [],
   "source": [
    "word_frequency = {}\n",
    "for word in new_keyword_combinations:\n",
    "    count = 0 \n",
    "    for prod_title in prod_titles:\n",
    "        if word in prod_title:\n",
    "            count += 1\n",
    "            \n",
    "    word_frequency[word] = count"
   ]
  },
  {
   "cell_type": "code",
   "execution_count": 254,
   "metadata": {
    "collapsed": true,
    "scrolled": true
   },
   "outputs": [],
   "source": [
    "df = pd.DataFrame.from_dict(word_frequency, orient=\"index\")"
   ]
  },
  {
   "cell_type": "code",
   "execution_count": 255,
   "metadata": {
    "collapsed": true
   },
   "outputs": [],
   "source": [
    "df = df.rename(columns= {0:\"count\"})"
   ]
  },
  {
   "cell_type": "code",
   "execution_count": 256,
   "metadata": {
    "scrolled": false
   },
   "outputs": [],
   "source": [
    "imp_words_df = df[df[\"count\"] != 0]"
   ]
  },
  {
   "cell_type": "code",
   "execution_count": 257,
   "metadata": {
    "collapsed": true
   },
   "outputs": [],
   "source": [
    "attrs = {}\n",
    "for word in new_keyword_combinations:\n",
    "    for d in refinement_dict_list:\n",
    "        if word in list(d.values())[0]:\n",
    "            key_name = list(d.keys())[0]\n",
    "            attrs[key_name] = word"
   ]
  },
  {
   "cell_type": "code",
   "execution_count": 258,
   "metadata": {},
   "outputs": [
    {
     "data": {
      "text/plain": [
       "{'ring styles': 'engagement', 'stones': 'stone'}"
      ]
     },
     "execution_count": 258,
     "metadata": {},
     "output_type": "execute_result"
    }
   ],
   "source": [
    "attrs"
   ]
  },
  {
   "cell_type": "code",
   "execution_count": 259,
   "metadata": {
    "scrolled": true
   },
   "outputs": [
    {
     "data": {
      "text/plain": [
       "['sapphire', 'ring', 'side', 'engagement', 'stone', 'with']"
      ]
     },
     "execution_count": 259,
     "metadata": {},
     "output_type": "execute_result"
    }
   ],
   "source": [
    "list(imp_words_df.index)"
   ]
  },
  {
   "cell_type": "code",
   "execution_count": 260,
   "metadata": {
    "scrolled": true
   },
   "outputs": [],
   "source": [
    "def modify_prod_titles(prod_title_list, word_list):\n",
    "    regex = \"\"\n",
    "    for word in word_list:\n",
    "        regex = regex + \"\\\\b\"+word+\"\\\\b\" + \"|\"\n",
    "    regex = regex.strip(\"|\")\n",
    "    new_prod_title_list = []\n",
    "    for prod in prod_title_list:\n",
    "        temp_list = re.findall(regex,prod)\n",
    "        print(\" \".join(temp_list),\"########\", prod)\n",
    "        new_prod_title_list.append(\" \".join(temp_list))\n",
    "    \n",
    "\n",
    "    return new_prod_title_list"
   ]
  },
  {
   "cell_type": "code",
   "execution_count": 261,
   "metadata": {
    "scrolled": true
   },
   "outputs": [
    {
     "name": "stdout",
     "output_type": "stream",
     "text": [
      "sapphire stone engagement ring ######## miadora 10k white gold created white sapphire and diamond 3-stone engagement ring\n",
      "ring ######## simon frank cushion-cut rhodium-overlay cubic zirconia ring\n",
      "sapphire ring ######## miadora sterling silver cushion and round-cut created white sapphire halo 3-piece bridal ring set\n",
      "sapphire ring ######## miadora sterling silver sapphire and diamond accent halo cocktail ring\n",
      "engagement ring ######## 14k white gold 3/4 ct tdw halo diamond split engagement ring\n",
      "ring ######## miadora sterling silver octagon-cut green amethyst and white topaz split shank cocktail ring\n",
      "sapphire ring ######## miadora 10k white gold created white sapphire bridal ring set\n",
      "sapphire stone engagement ring ######## miadora 10k rose gold morganite and created white sapphire diamond accent 3-stone engagement ring (g-h, i1-i2)\n",
      "ring ######## sterling silver cubic zirconia wedding ring\n",
      "with side engagement ring ######## charles & colvard 14k white gold 1 3/4ct dew forever one near-colorless moissanite solitaire with side accents engagement ring\n",
      "sapphire ring ######## miadora 10k white gold created white and blue sapphire 1/3ct tdw diamond bridal ring set\n",
      "sapphire stone engagement ring ######## miadora 10k white gold sapphire and 1/8ct tdw diamond 3-stone engagement ring (g-h, i2-i3)\n",
      "sapphire ring ######## miadora 10k white gold created sapphire and diamond ring\n",
      "engagement ring ######## annello by kobelli 14k white gold 1 1/5ct tgw round-cut moissanite and diamond vintage floral engagement ring\n",
      "engagement ring ######## 14k white gold 5/8 cttw diamond engagement matching wedding ring set\n",
      "sapphire stone engagement ring ######## miadora 10k white gold 1 1/3ct tw created white sapphire 3-stone engagement ring\n",
      "sapphire stone ring ######## miadora 10k yellow gold created white sapphire 3-stone ring\n",
      "ring ######## glitzy rocks sterling silver gemstone or cubic zirconia birthstone ring\n",
      "sapphire ring ######## miadora 14k white gold oval diffused sapphire and 2/5ct tdw diamond halo ring\n",
      "sapphire ring ######## miadora sterling silver created white sapphire and 2/ 5ct tdw black diamond bridal ring set\n",
      "sapphire stone ring ######## miadora sterling silver created white sapphire and diamond 3-stone solitaire infinity promise ring (h-i, i2-i3)\n",
      "with side engagement ring ######## charles & colvard 14k white gold 1 4/5ct dew forever one near colorless solitaire with side accents engagement ring\n",
      "sapphire ring ######## cambridge sterling silver 1/3ct tdw diamond and sapphire ring\n",
      "stone engagement ring ######## annello by kobelli 14k gold 2 1/2ct tgw round three stone moissanite engagement ring\n",
      "engagement ring ######## annello by kobelli 14k white gold 1/2ct tdw diamond edwardian antique engagement ring\n",
      "engagement ring ######## auriya platinum 4 1/3ct tdw cushion cut diamond halo engagement ring\n",
      "sapphire ring ######## miadora 10k white gold created white sapphire ring\n",
      "stone engagement ring ######## 10k white gold 1/2 carat tdw three stone diamond engagement ring (j-k, i2-i3)\n",
      "sapphire stone ring ######## miadora 10k white gold created sapphire and diamond 3-stone ring (h-i, i2-i3)\n",
      "engagement ring ######## auriya 14k gold 1ct tdw princess-cut diamond solitaire engagement ring\n",
      "ring ######## oliveti sterling silver 4.75ct tw radiant-cut cubic zirconia bridal ring set\n",
      "stone sapphire engagement ring ######## miadora 10k white gold 3-stone cushion shape created white sapphire and diamond engagement ring\n",
      "sapphire ring ######## miadora sterling silver created blue and white sapphire fashion ring\n",
      "sapphire stone ring ######## miadora 10k white gold created blue and white sapphire 3-stone ring\n",
      "sapphire stone engagement ring ######## miadora 10k white gold created white sapphire and diamond accent 3-stone engagement ring\n",
      " ######## annello by kobelli 14k white gold 4 3/4ct round forever brilliant moissanite and 2/5ct tdw diamond h\n",
      "stone ring ######## miadora 10k white gold created gemstone and diamond three-stone ring\n",
      "sapphire engagement ring ######## miadora 10k rose gold created white sapphire and diamond accent engagement ring\n",
      "engagement ring ######## 14k gold 1/2ct tdw princess diamond engagement ring\n",
      "sapphire stone engagement ring ######## auriya 14k gold 3/4ct blue sapphire and diamond three-stone engagement ring\n",
      "ring ######## miadora sterling silver 1/5ct tdw diamond split shank bridal ring set\n",
      "engagement ring ######## miadora sterling silver white cubic zirconia halo engagement ring\n",
      "ring ######## miadora 2 ct black and white diamond tw fashion ring 10k white gold gh i2;i3 black rhodium plated\n",
      "ring ######## sterling silver cubic zirconia 2-piece wedding ring set\n",
      "sapphire engagement ring ######## auriya 14k gold 1/2ct blue sapphire and 1/3ct tdw round diamonds engagement ring (h-i, si1-si2)\n",
      "engagement ring ######## 14k white gold 1ct tdw diamond vintage engagement ring\n",
      "sapphire engagement ring ######## miadora 10k white gold created white sapphire and 1/4ct tdw diamond vintage engagement ring (g-h, i2\n",
      "sapphire stone engagement ring ######## annello by kobelli 14k white gold round-cut sapphire and 1/3ct tdw diamond three stone engagement ring\n",
      "ring ######## auriya 14k two-tone gold 2ct tdw certified round cut diamond bridal ring set\n",
      "engagement ring ######## annello by kobelli 14k rose gold oval moissanite and 1/3ct tdw diamond halo engagement ring\n",
      "ring ######## women's stainless steel polished cubic zirconia ring\n",
      "stone ring ######## miadora 10k white gold created gemstone and diamond three-stone ring (h-i, i2-i3)\n",
      "with sapphire engagement ring ######## miadora sterling silver with black rhodium created white sapphire and 1/6ct tdw black diamond engagement ring\n",
      "engagement ring ######## kate bissett silvertone brass cubic zirconia engagement ring\n",
      "sapphire stone ring ######## miadora 10k white gold oval-cut created blue and white sapphire diamond accent 3-stone ring\n",
      " ######## annello by kobelli 14k white gold cushion moissanite and 1/2ct tdw diamond halo cathedral bridal set\n",
      "engagement ring ######## 14k yellow gold 1 3/8ct tgw round-cut cubic zirconia engagement ring\n",
      "ring ######## kate bissett 14k gold overlay cubic zirconia past, present, future anniversary ring\n",
      " ######## beverly hills charm 14k white gold 1/3ct tdw round swirl halo diamond bridal set\n",
      "sapphire ring ######## miadora 10k white gold created blue sapphire and 1/10ct tdw diamond halo cocktail ring (g-h, i2-i3)\n"
     ]
    }
   ],
   "source": [
    "prod_titles_modified = modify_prod_titles(prod_titles, list(imp_words_df.index))"
   ]
  },
  {
   "cell_type": "code",
   "execution_count": 262,
   "metadata": {
    "scrolled": true
   },
   "outputs": [
    {
     "data": {
      "text/plain": [
       "Counter({'': 3,\n",
       "         'engagement ring': 12,\n",
       "         'ring': 11,\n",
       "         'sapphire engagement ring': 3,\n",
       "         'sapphire ring': 11,\n",
       "         'sapphire stone engagement ring': 7,\n",
       "         'sapphire stone ring': 5,\n",
       "         'stone engagement ring': 2,\n",
       "         'stone ring': 2,\n",
       "         'stone sapphire engagement ring': 1,\n",
       "         'with sapphire engagement ring': 1,\n",
       "         'with side engagement ring': 2})"
      ]
     },
     "execution_count": 262,
     "metadata": {},
     "output_type": "execute_result"
    }
   ],
   "source": [
    "from collections import Counter\n",
    "\n",
    "Counter(prod_titles_modified)"
   ]
  },
  {
   "cell_type": "code",
   "execution_count": 263,
   "metadata": {
    "scrolled": true
   },
   "outputs": [],
   "source": [
    "word_len_list = []\n",
    "for item in set(prod_titles_modified):\n",
    "    word_len_list.append(len(item))"
   ]
  },
  {
   "cell_type": "code",
   "execution_count": 264,
   "metadata": {
    "scrolled": false
   },
   "outputs": [],
   "source": [
    "mod_prod_title_df = pd.DataFrame({\"word\":list(set(prod_titles_modified)),\"length\":word_len_list})"
   ]
  },
  {
   "cell_type": "code",
   "execution_count": 265,
   "metadata": {
    "scrolled": true
   },
   "outputs": [
    {
     "data": {
      "text/html": [
       "<div>\n",
       "<table border=\"1\" class=\"dataframe\">\n",
       "  <thead>\n",
       "    <tr style=\"text-align: right;\">\n",
       "      <th></th>\n",
       "      <th>length</th>\n",
       "      <th>word</th>\n",
       "    </tr>\n",
       "  </thead>\n",
       "  <tbody>\n",
       "    <tr>\n",
       "      <th>0</th>\n",
       "      <td>30</td>\n",
       "      <td>sapphire stone engagement ring</td>\n",
       "    </tr>\n",
       "    <tr>\n",
       "      <th>6</th>\n",
       "      <td>30</td>\n",
       "      <td>stone sapphire engagement ring</td>\n",
       "    </tr>\n",
       "    <tr>\n",
       "      <th>5</th>\n",
       "      <td>29</td>\n",
       "      <td>with sapphire engagement ring</td>\n",
       "    </tr>\n",
       "    <tr>\n",
       "      <th>1</th>\n",
       "      <td>25</td>\n",
       "      <td>with side engagement ring</td>\n",
       "    </tr>\n",
       "    <tr>\n",
       "      <th>4</th>\n",
       "      <td>24</td>\n",
       "      <td>sapphire engagement ring</td>\n",
       "    </tr>\n",
       "    <tr>\n",
       "      <th>8</th>\n",
       "      <td>21</td>\n",
       "      <td>stone engagement ring</td>\n",
       "    </tr>\n",
       "    <tr>\n",
       "      <th>3</th>\n",
       "      <td>19</td>\n",
       "      <td>sapphire stone ring</td>\n",
       "    </tr>\n",
       "    <tr>\n",
       "      <th>11</th>\n",
       "      <td>15</td>\n",
       "      <td>engagement ring</td>\n",
       "    </tr>\n",
       "    <tr>\n",
       "      <th>10</th>\n",
       "      <td>13</td>\n",
       "      <td>sapphire ring</td>\n",
       "    </tr>\n",
       "    <tr>\n",
       "      <th>7</th>\n",
       "      <td>10</td>\n",
       "      <td>stone ring</td>\n",
       "    </tr>\n",
       "    <tr>\n",
       "      <th>9</th>\n",
       "      <td>4</td>\n",
       "      <td>ring</td>\n",
       "    </tr>\n",
       "    <tr>\n",
       "      <th>2</th>\n",
       "      <td>0</td>\n",
       "      <td></td>\n",
       "    </tr>\n",
       "  </tbody>\n",
       "</table>\n",
       "</div>"
      ],
      "text/plain": [
       "    length                            word\n",
       "0       30  sapphire stone engagement ring\n",
       "6       30  stone sapphire engagement ring\n",
       "5       29   with sapphire engagement ring\n",
       "1       25       with side engagement ring\n",
       "4       24        sapphire engagement ring\n",
       "8       21           stone engagement ring\n",
       "3       19             sapphire stone ring\n",
       "11      15                 engagement ring\n",
       "10      13                   sapphire ring\n",
       "7       10                      stone ring\n",
       "9        4                            ring\n",
       "2        0                                "
      ]
     },
     "execution_count": 265,
     "metadata": {},
     "output_type": "execute_result"
    }
   ],
   "source": [
    "mod_prod_title_df.sort_values(by= \"length\", ascending=False)"
   ]
  },
  {
   "cell_type": "code",
   "execution_count": 266,
   "metadata": {
    "scrolled": true
   },
   "outputs": [
    {
     "data": {
      "text/plain": [
       "0     sapphire stone engagement ring\n",
       "1          with side engagement ring\n",
       "2                                   \n",
       "3                sapphire stone ring\n",
       "4           sapphire engagement ring\n",
       "5      with sapphire engagement ring\n",
       "6     stone sapphire engagement ring\n",
       "7                         stone ring\n",
       "8              stone engagement ring\n",
       "9                               ring\n",
       "10                     sapphire ring\n",
       "11                   engagement ring\n",
       "Name: word, dtype: object"
      ]
     },
     "execution_count": 266,
     "metadata": {},
     "output_type": "execute_result"
    }
   ],
   "source": [
    "mod_prod_title_df[\"word\"]"
   ]
  },
  {
   "cell_type": "code",
   "execution_count": 267,
   "metadata": {},
   "outputs": [
    {
     "data": {
      "text/plain": [
       "'engagement rings with sapphire side stones'"
      ]
     },
     "execution_count": 267,
     "metadata": {},
     "output_type": "execute_result"
    }
   ],
   "source": [
    "keyword"
   ]
  },
  {
   "cell_type": "code",
   "execution_count": 268,
   "metadata": {
    "scrolled": true
   },
   "outputs": [
    {
     "data": {
      "text/html": [
       "<div>\n",
       "<table border=\"1\" class=\"dataframe\">\n",
       "  <thead>\n",
       "    <tr style=\"text-align: right;\">\n",
       "      <th></th>\n",
       "      <th>count</th>\n",
       "    </tr>\n",
       "  </thead>\n",
       "  <tbody>\n",
       "    <tr>\n",
       "      <th>ring</th>\n",
       "      <td>57</td>\n",
       "    </tr>\n",
       "    <tr>\n",
       "      <th>sapphire</th>\n",
       "      <td>28</td>\n",
       "    </tr>\n",
       "    <tr>\n",
       "      <th>engagement</th>\n",
       "      <td>28</td>\n",
       "    </tr>\n",
       "    <tr>\n",
       "      <th>stone</th>\n",
       "      <td>18</td>\n",
       "    </tr>\n",
       "    <tr>\n",
       "      <th>with</th>\n",
       "      <td>3</td>\n",
       "    </tr>\n",
       "    <tr>\n",
       "      <th>side</th>\n",
       "      <td>2</td>\n",
       "    </tr>\n",
       "  </tbody>\n",
       "</table>\n",
       "</div>"
      ],
      "text/plain": [
       "            count\n",
       "ring           57\n",
       "sapphire       28\n",
       "engagement     28\n",
       "stone          18\n",
       "with            3\n",
       "side            2"
      ]
     },
     "execution_count": 268,
     "metadata": {},
     "output_type": "execute_result"
    }
   ],
   "source": [
    "imp_words_df.sort_values(by = \"count\", ascending=False)"
   ]
  },
  {
   "cell_type": "code",
   "execution_count": null,
   "metadata": {
    "collapsed": true
   },
   "outputs": [],
   "source": []
  }
 ],
 "metadata": {
  "kernelspec": {
   "display_name": "Python [Root]",
   "language": "python",
   "name": "Python [Root]"
  },
  "language_info": {
   "codemirror_mode": {
    "name": "ipython",
    "version": 3
   },
   "file_extension": ".py",
   "mimetype": "text/x-python",
   "name": "python",
   "nbconvert_exporter": "python",
   "pygments_lexer": "ipython3",
   "version": "3.5.2"
  }
 },
 "nbformat": 4,
 "nbformat_minor": 2
}
